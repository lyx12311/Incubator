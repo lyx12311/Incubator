{
 "cells": [
  {
   "cell_type": "code",
   "execution_count": 311,
   "metadata": {},
   "outputs": [],
   "source": [
    "import pandas as pd\n",
    "import numpy as np\n",
    "import matplotlib.pyplot as plt\n",
    "\n",
    "plt.rcParams.keys()\n",
    "plt.rc('font', family='serif')\n",
    "params = {\n",
    "   'axes.labelsize': 30,\n",
    "   'axes.linewidth': 1.5,\n",
    "   'legend.fontsize': 25,\n",
    "   'legend.frameon': False,\n",
    "   'lines.linewidth': 2,\n",
    "   'xtick.direction': 'in',\n",
    "   'xtick.labelsize': 25,\n",
    "   'xtick.major.bottom': True,\n",
    "   'xtick.major.pad': 10,\n",
    "   'xtick.major.size': 10,\n",
    "   'xtick.major.width': 1,\n",
    "   'xtick.minor.bottom': True,\n",
    "   'xtick.minor.pad': 3.5,\n",
    "   'xtick.minor.size': 5,\n",
    "   'xtick.minor.top': True,\n",
    "   'xtick.minor.visible': True,\n",
    "   'xtick.minor.width': 1,\n",
    "   'xtick.top': True,\n",
    "   'ytick.direction': 'in',\n",
    "   'ytick.labelsize': 25,\n",
    "   'ytick.major.pad': 10,\n",
    "   'ytick.major.size': 10,\n",
    "   'ytick.major.width': 1,\n",
    "   'ytick.minor.pad': 3.5,\n",
    "   'ytick.minor.size': 5,\n",
    "   'ytick.minor.visible': True,\n",
    "   'ytick.minor.width': 1,\n",
    "   'ytick.right': True,\n",
    "   'figure.figsize': [10,10], # instead of 4.5, 4.5\n",
    "   'savefig.format': 'eps',\n",
    "   'text.usetex': False,\n",
    "   }\n",
    "plt.rcParams.update(params)"
   ]
  },
  {
   "cell_type": "code",
   "execution_count": 312,
   "metadata": {},
   "outputs": [],
   "source": [
    "df=pd.read_table('Recent_Contract_Awards.csv',delimiter=',')\n",
    "df['StartY']=[int(i.split('/')[2]) for i in df['StartDate'].values]\n",
    "df['StartD']=[int(i.split('/')[1]) for i in df['StartDate'].values]\n",
    "df['StartM']=[int(i.split('/')[0]) for i in df['StartDate'].values]"
   ]
  },
  {
   "cell_type": "code",
   "execution_count": 313,
   "metadata": {},
   "outputs": [
    {
     "name": "stdout",
     "output_type": "stream",
     "text": [
      "35122 35122\n",
      "52259664446.94025\n"
     ]
    },
    {
     "data": {
      "text/plain": [
       "['RequestID',\n",
       " 'StartDate',\n",
       " 'EndDate',\n",
       " 'AgencyName',\n",
       " 'TypeOfNoticeDescription',\n",
       " 'CategoryDescription',\n",
       " 'ShortTitle',\n",
       " 'SelectionMethodDescription',\n",
       " 'SectionName',\n",
       " 'SpecialCaseReasonDescription',\n",
       " 'PIN',\n",
       " 'DueDate',\n",
       " 'AddressToRequest',\n",
       " 'ContactName',\n",
       " 'ContactPhone',\n",
       " 'Email',\n",
       " 'ContractAmount',\n",
       " 'ContactFax',\n",
       " 'AdditionalDescription1',\n",
       " 'AdditionalDesctription2',\n",
       " 'AdditionalDescription3',\n",
       " 'OtherInfo1',\n",
       " 'OtherInfo2',\n",
       " 'OtherInfo3',\n",
       " 'VendorName',\n",
       " 'VendorAddress',\n",
       " 'Printout1',\n",
       " 'Printout2',\n",
       " 'Printout3',\n",
       " 'DocumentLinks',\n",
       " 'EventDate',\n",
       " 'EventBuildingName',\n",
       " 'EventStreetAddress1',\n",
       " 'EventStreetAddress2',\n",
       " 'EventCity',\n",
       " 'EventStateCode',\n",
       " 'EventZipCode',\n",
       " 'StartY',\n",
       " 'StartD',\n",
       " 'StartM']"
      ]
     },
     "execution_count": 313,
     "metadata": {},
     "output_type": "execute_result"
    }
   ],
   "source": [
    "# Q1\n",
    "df=df.dropna(subset=['ContractAmount'])\n",
    "\n",
    "df_Q1=df.loc[df['StartY']<=19]\n",
    "df_Q1=df_Q1.loc[df_Q1['StartY']>=10]\n",
    "df_Q1=df_Q1.dropna(subset=['ContractAmount'])\n",
    "df_Q1=df_Q1.loc[df_Q1['ContractAmount']>0]\n",
    "\n",
    "df_Q1_r=df.loc[~(df.index).isin(df_Q1.index)]\n",
    "\n",
    "print(len(df),len(df_Q1)+len(df_Q1_r))\n",
    "\n",
    "print(sum(df_Q1_r['ContractAmount']))\n",
    "\n",
    "list(df_Q2.columns)"
   ]
  },
  {
   "cell_type": "code",
   "execution_count": 283,
   "metadata": {},
   "outputs": [],
   "source": [
    "# Q2\n",
    "df_Q2=df_Q1.loc[df_Q1['AgencyName']=='Citywide Administrative Services']\n",
    "\n",
    "vendors=df_Q2.VendorName.unique()\n",
    "contracts=np.zeros(len(vendors))\n",
    "\n",
    "for i in range(len(vendors)):\n",
    "    contracts[i]=sum(df_Q2.loc[df_Q2['VendorName']==vendors[i]]['ContractAmount'])\n"
   ]
  },
  {
   "cell_type": "code",
   "execution_count": 284,
   "metadata": {},
   "outputs": [
    {
     "name": "stdout",
     "output_type": "stream",
     "text": [
      "0.6361324095824241\n"
     ]
    }
   ],
   "source": [
    "contracts,vendors=zip(*sorted(zip(contracts,vendors)))\n",
    "print(sum(contracts[-50:])/sum(contracts))"
   ]
  },
  {
   "cell_type": "code",
   "execution_count": 285,
   "metadata": {},
   "outputs": [
    {
     "data": {
      "text/plain": [
       "array(['Construction/Construction Services',\n",
       "       'Construction Related Services'], dtype=object)"
      ]
     },
     "execution_count": 285,
     "metadata": {},
     "output_type": "execute_result"
    }
   ],
   "source": [
    "# Q3\n",
    "df_Q3=df_Q1.loc[df_Q1['CategoryDescription'].isin(['Construction/Construction Services','Construction Related Services'])]\n",
    "df_Q3['CategoryDescription'].unique()"
   ]
  },
  {
   "cell_type": "code",
   "execution_count": 286,
   "metadata": {},
   "outputs": [
    {
     "name": "stdout",
     "output_type": "stream",
     "text": [
      "13064125.6\n",
      "8939669.24\n"
     ]
    }
   ],
   "source": [
    "labelswith_CP=[i for i in df_Q3['ShortTitle'].values if 'CENTRAL PARK' in i and 'CENTRAL PARKWAY' not in i]\n",
    "labelswith_WSP=[i for i in df_Q3['ShortTitle'].values if 'WASHINGTON SQUARE PARK' in i]\n",
    "\n",
    "print(sum(df_Q3.loc[df_Q3['ShortTitle'].isin(labelswith_CP)]['ContractAmount']))\n",
    "print(sum(df_Q3.loc[df_Q3['ShortTitle'].isin(labelswith_WSP)]['ContractAmount']))\n"
   ]
  },
  {
   "cell_type": "code",
   "execution_count": 287,
   "metadata": {},
   "outputs": [
    {
     "data": {
      "text/plain": [
       "1.4613656556268741"
      ]
     },
     "execution_count": 287,
     "metadata": {},
     "output_type": "execute_result"
    }
   ],
   "source": [
    "13064125.6/8939669.24"
   ]
  },
  {
   "cell_type": "code",
   "execution_count": 288,
   "metadata": {},
   "outputs": [],
   "source": [
    "# Q4\n",
    "df_Q4=df_Q1.loc[df_Q1['AgencyName']=='Citywide Administrative Services']\n",
    "df_Q4=df_Q4[df_Q4['CategoryDescription']=='Goods']"
   ]
  },
  {
   "cell_type": "code",
   "execution_count": 289,
   "metadata": {},
   "outputs": [],
   "source": [
    "years=df_Q4['StartY'].unique()\n",
    "contpy=np.zeros(len(years))\n",
    "\n",
    "for i in range(len(years)):\n",
    "    df_Q4_y=df_Q4.loc[df_Q4['StartY']==years[i]]\n",
    "    contpy[i]=sum(df_Q4_y['ContractAmount'])\n",
    "    "
   ]
  },
  {
   "cell_type": "code",
   "execution_count": 290,
   "metadata": {},
   "outputs": [],
   "source": [
    "# fit linear regression\n",
    "z=np.polyfit(years, contpy, 1)\n",
    "p=np.poly1d(z)"
   ]
  },
  {
   "cell_type": "code",
   "execution_count": 291,
   "metadata": {},
   "outputs": [],
   "source": [
    "# calculate R2\n",
    "def calcR2(x,y,p):\n",
    "    y_ave=np.mean(y)\n",
    "    SS_tot=sum(np.power(y-y_ave,2.))\n",
    "    SS_res=sum(np.power(y-p(x),2.))\n",
    "    return 1-SS_res/SS_tot"
   ]
  },
  {
   "cell_type": "code",
   "execution_count": 292,
   "metadata": {},
   "outputs": [
    {
     "data": {
      "text/plain": [
       "Text(0.5, 1.0, '$R^2$ is 0.36')"
      ]
     },
     "execution_count": 292,
     "metadata": {},
     "output_type": "execute_result"
    },
    {
     "data": {
      "image/png": "[encoded data removed]",
      "text/plain": [
       "<Figure size 720x576 with 1 Axes>"
      ]
     },
     "metadata": {
      "needs_background": "light"
     },
     "output_type": "display_data"
    }
   ],
   "source": [
    "plt.figure(figsize=(10,8))\n",
    "plt.plot(years,contpy,'ro')\n",
    "plt.plot([min(years),max(years)],np.polyval(z,[min(years),max(years)]),'k--')\n",
    "plt.xlabel('year')\n",
    "plt.ylabel('contracts')\n",
    "plt.title('$R^2$ is %.2f'%(calcR2(years,contpy,p)),fontsize=25)"
   ]
  },
  {
   "cell_type": "code",
   "execution_count": 293,
   "metadata": {},
   "outputs": [],
   "source": [
    "# Q5\n",
    "agencies=df_Q1['AgencyName'].unique()\n",
    "conts_N=np.zeros(len(agencies))\n",
    "conts_m=np.zeros(len(agencies))\n",
    "for i in range(len(agencies)):\n",
    "    df_Q5=df_Q1[df_Q1['AgencyName']==agencies[i]]\n",
    "    conts_N[i]=len(df_Q5)\n",
    "    conts_m[i]=np.mean(df_Q5['ContractAmount'])\n",
    "    "
   ]
  },
  {
   "cell_type": "code",
   "execution_count": 294,
   "metadata": {},
   "outputs": [
    {
     "name": "stdout",
     "output_type": "stream",
     "text": [
      "4.7530520003098236\n"
     ]
    }
   ],
   "source": [
    "conts_N,conts_m,agencies=zip(*sorted(zip(conts_N,conts_m,agencies)))\n",
    "sortconm=sorted(conts_m[-5:])\n",
    "print(sortconm[-1]/sortconm[-2])"
   ]
  },
  {
   "cell_type": "code",
   "execution_count": 295,
   "metadata": {},
   "outputs": [],
   "source": [
    "# Q6\n",
    "df_Q6=df_Q1.loc[df_Q1['AgencyName']=='Parks and Recreation']"
   ]
  },
  {
   "cell_type": "code",
   "execution_count": 296,
   "metadata": {},
   "outputs": [
    {
     "name": "stderr",
     "output_type": "stream",
     "text": [
      "/Users/lucy/anaconda3/lib/python3.7/site-packages/ipykernel_launcher.py:2: SettingWithCopyWarning: \n",
      "A value is trying to be set on a copy of a slice from a DataFrame.\n",
      "Try using .loc[row_indexer,col_indexer] = value instead\n",
      "\n",
      "See the caveats in the documentation: https://pandas.pydata.org/pandas-docs/stable/user_guide/indexing.html#returning-a-view-versus-a-copy\n",
      "  \n",
      "/Users/lucy/anaconda3/lib/python3.7/site-packages/ipykernel_launcher.py:4: SettingWithCopyWarning: \n",
      "A value is trying to be set on a copy of a slice from a DataFrame.\n",
      "Try using .loc[row_indexer,col_indexer] = value instead\n",
      "\n",
      "See the caveats in the documentation: https://pandas.pydata.org/pandas-docs/stable/user_guide/indexing.html#returning-a-view-versus-a-copy\n",
      "  after removing the cwd from sys.path.\n"
     ]
    }
   ],
   "source": [
    "import datetime\n",
    "df_Q6['StartDate_d']=[str(df_Q6['StartY'].values[i])+'-'+str(df_Q6['StartM'].values[i])+'-'+str(df_Q6['StartD'].values[i]) for i in range(len(df_Q6))]\n",
    "#pd.Timestamp(df_Q6['StartDate'].values)\n",
    "df_Q6['Dayofweek']=[pd.Timestamp(df_Q6['StartDate_d'].values[i]).dayofweek for i in range(len(df_Q6))]\n"
   ]
  },
  {
   "cell_type": "code",
   "execution_count": 297,
   "metadata": {},
   "outputs": [],
   "source": [
    "null_hy=float(len(df_Q6))/5.\n",
    "\n",
    "chisq=0\n",
    "for i in df_Q6['Dayofweek'].unique():\n",
    "    chisq=chisq+np.power(len(df_Q6.loc[df_Q6['Dayofweek']==i])-null_hy,2.)/null_hy\n"
   ]
  },
  {
   "cell_type": "code",
   "execution_count": 298,
   "metadata": {},
   "outputs": [
    {
     "data": {
      "text/plain": [
       "96.97183098591549"
      ]
     },
     "execution_count": 298,
     "metadata": {},
     "output_type": "execute_result"
    }
   ],
   "source": [
    "chisq\n",
    "# should be around 4"
   ]
  },
  {
   "cell_type": "code",
   "execution_count": 300,
   "metadata": {},
   "outputs": [],
   "source": [
    "# Q7\n",
    "expend=[]\n",
    "df_Q7=df_Q1.loc[df_Q1['AgencyName']=='Environmental Protection']\n",
    "for i in [10+i for i in range(10)]:\n",
    "    df_Q7_s=df_Q7.loc[df_Q7['StartY']==i]\n",
    "    for j in [i+1 for i in range(12)]:\n",
    "        df_Q7_s_m=df_Q7_s.loc[df_Q7_s['StartM']==j]\n",
    "        if len(df_Q7_s_m)==0:\n",
    "            expend.append(0)\n",
    "        else:\n",
    "            expend.append(sum(df_Q7_s_m['ContractAmount']))\n",
    "        "
   ]
  },
  {
   "cell_type": "code",
   "execution_count": 301,
   "metadata": {},
   "outputs": [
    {
     "data": {
      "text/plain": [
       "0.09231292329069422"
      ]
     },
     "execution_count": 301,
     "metadata": {},
     "output_type": "execute_result"
    }
   ],
   "source": [
    "expend=pd.Series(expend)\n",
    "\n",
    "expend.autocorr(lag=12)\n",
    "\n",
    "# the correlation is not strong "
   ]
  },
  {
   "cell_type": "code",
   "execution_count": 302,
   "metadata": {},
   "outputs": [
    {
     "data": {
      "text/plain": [
       "[<matplotlib.lines.Line2D at 0x1a36801ef0>]"
      ]
     },
     "execution_count": 302,
     "metadata": {},
     "output_type": "execute_result"
    },
    {
     "data": {
      "image/png": "[encoded data removed]",
      "text/plain": [
       "<Figure size 720x720 with 1 Axes>"
      ]
     },
     "metadata": {
      "needs_background": "light"
     },
     "output_type": "display_data"
    }
   ],
   "source": [
    "plt.plot(expend)"
   ]
  },
  {
   "cell_type": "code",
   "execution_count": 356,
   "metadata": {},
   "outputs": [
    {
     "name": "stdout",
     "output_type": "stream",
     "text": [
      "warning, can't convert to int!\n",
      "warning, can't convert to int!\n",
      "warning, can't convert to int!\n",
      "warning, can't convert to int!\n",
      "warning, can't convert to int!\n",
      "warning, can't convert to int!\n",
      "warning, can't convert to int!\n",
      "warning, can't convert to int!\n",
      "warning, can't convert to int!\n",
      "warning, can't convert to int!\n",
      "warning, can't convert to int!\n",
      "warning, can't convert to int!\n",
      "warning, can't convert to int!\n",
      "warning, can't convert to int!\n",
      "warning, can't convert to int!\n",
      "warning, can't convert to int!\n",
      "warning, can't convert to int!\n",
      "warning, can't convert to int!\n",
      "warning, can't convert to int!\n",
      "warning, can't convert to int!\n",
      "warning, can't convert to int!\n",
      "warning, can't convert to int!\n"
     ]
    },
    {
     "name": "stderr",
     "output_type": "stream",
     "text": [
      "/Users/lucy/anaconda3/lib/python3.7/site-packages/ipykernel_launcher.py:44: SettingWithCopyWarning: \n",
      "A value is trying to be set on a copy of a slice from a DataFrame.\n",
      "Try using .loc[row_indexer,col_indexer] = value instead\n",
      "\n",
      "See the caveats in the documentation: https://pandas.pydata.org/pandas-docs/stable/user_guide/indexing.html#returning-a-view-versus-a-copy\n"
     ]
    },
    {
     "data": {
      "text/plain": [
       "6849963860.949998"
      ]
     },
     "execution_count": 356,
     "metadata": {},
     "output_type": "execute_result"
    }
   ],
   "source": [
    "# Q8\n",
    "NYzips=[10453, 10457, 10460,10458, 10467, 10468,10451, 10452, 10456,10454, 10455, 10459, 10474,10463, 10471,\n",
    "       10466, 10469, 10470, 10475,10461, 10462,10464, 10465, 10472, 10473,11212, 11213, 11216, 11233, 11238,\n",
    "        11209, 11214, 11228,11204, 11218, 11219, 11230,11234, 11236, 11239,11223, 11224, 11229, 11235,11201, \n",
    "        11205, 11215, 11217, 11231,11203, 11210, 11225, 11226,11207, 11208,11211, 11222,11220, 11232,11206, \n",
    "        11221, 11237,10026, 10027, 10030, 10037, 10039,10001, 10011, 10018, 10019, 10020, 10036,10029, 10035,\n",
    "        10010, 10016, 10017, 10022,10012, 10013, 10014,10004, 10005, 10006, 10007, 10038, 10280,10002, 10003, \n",
    "        10009,10021, 10028, 10044, 10065, 10075, 10128,10023, 10024, 10025,10031, 10032, 10033, 10034, 10040,\n",
    "        11361, 11362, 11363, 11364,11354, 11355, 11356, 11357, 11358, 11359, 11360,11365, 11366, 11367,11412,\n",
    "        11423, 11432, 11433, 11434, 11435, 11436,11101, 11102, 11103, 11104, 11105, 11106,11374, 11375, 11379,\n",
    "        11385,11691, 11692, 11693, 11694, 11695, 11697,11004, 11005, 11411, 11413, 11422, 11426, 11427, 11428,\n",
    "        11429,11414, 11415, 11416, 11417, 11418, 11419, 11420, 11421,11368, 11369, 11370, 11372, 11373, 11377,\n",
    "        11378,10302, 10303, 10310,10306, 10307, 10308, 10309, 10312,10301, 10304, 10305,10314]\n",
    "\n",
    "df_Q8=df_Q1.loc[df_Q1['StartY']==18]\n",
    "\n",
    "zips=np.zeros(len(df_Q8))\n",
    "for i in range(len(df_Q8)):\n",
    "    address=df_Q8.VendorAddress.values[i].split(' ')[-1]\n",
    "    if 'N.Y.' in address:\n",
    "        df_Q8.VendorAddress.values[i].split(' ')[-1].split('.')[-1]    \n",
    "    if '(m/wbe)' in address:\n",
    "        address=[i for i in df_Q8.VendorAddress.values[i].split(' ') if i][-2]\n",
    "    if '(mwbe)' in address:\n",
    "        address=df_Q8.VendorAddress.values[i].split(' ')[-2]\n",
    "    if '(M/WBE)' in address:\n",
    "        address = df_Q8.VendorAddress.values[i].split('(')[-2].split(' ')[-1]\n",
    "        address = [i for i in df_Q8.VendorAddress.values[i].split('(')[-2].split(' ') if i][-1]\n",
    "    if '.' in address:\n",
    "        address = address.split('.')[-2]\n",
    "    if 'MWBE' in address:\n",
    "        address = df_Q8.VendorAddress.values[i].split(' ')[-2]\n",
    "    if ',' in address:\n",
    "        address = address.split(',')[-1]\n",
    "    if '-' in address:\n",
    "        address = address.split('-')[-2]\n",
    "    try:\n",
    "        int(address)\n",
    "        zips[i]=address\n",
    "    except:\n",
    "        print(\"warning, can't convert to int!\")\n",
    "        zips[i]=0\n",
    "\n",
    "df_Q8['zips']=zips\n",
    "        \n",
    "\n",
    "df_Q8_ny=df_Q8.loc[df_Q8['zips'].isin(NYzips)]\n",
    "df_Q8_ew=df_Q8.loc[~df_Q8['zips'].isin(NYzips)]\n",
    "\n",
    "sum(df_Q8_ny['ContractAmount'])"
   ]
  },
  {
   "cell_type": "code",
   "execution_count": 358,
   "metadata": {},
   "outputs": [
    {
     "data": {
      "text/plain": [
       "0.3553228146604765"
      ]
     },
     "execution_count": 358,
     "metadata": {},
     "output_type": "execute_result"
    }
   ],
   "source": [
    "sum(df_Q8_ny['ContractAmount'])/sum(df_Q8['ContractAmount']) # 36% are rewarded to NYC"
   ]
  },
  {
   "cell_type": "code",
   "execution_count": null,
   "metadata": {},
   "outputs": [],
   "source": []
  }
 ],
 "metadata": {
  "kernelspec": {
   "display_name": "Python 3",
   "language": "python",
   "name": "python3"
  },
  "language_info": {
   "codemirror_mode": {
    "name": "ipython",
    "version": 3
   },
   "file_extension": ".py",
   "mimetype": "text/x-python",
   "name": "python",
   "nbconvert_exporter": "python",
   "pygments_lexer": "ipython3",
   "version": "3.7.3"
  }
 },
 "nbformat": 4,
 "nbformat_minor": 2
}
